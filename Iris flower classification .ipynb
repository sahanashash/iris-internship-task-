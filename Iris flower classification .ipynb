{
 "cells": [
  {
   "cell_type": "code",
   "execution_count": 1,
   "id": "9161f566",
   "metadata": {},
   "outputs": [
    {
     "name": "stdout",
     "output_type": "stream",
     "text": [
      "{'data': array([[5.1, 3.5, 1.4, 0.2],\n",
      "       [4.9, 3. , 1.4, 0.2],\n",
      "       [4.7, 3.2, 1.3, 0.2],\n",
      "       [4.6, 3.1, 1.5, 0.2],\n",
      "       [5. , 3.6, 1.4, 0.2],\n",
      "       [5.4, 3.9, 1.7, 0.4],\n",
      "       [4.6, 3.4, 1.4, 0.3],\n",
      "       [5. , 3.4, 1.5, 0.2],\n",
      "       [4.4, 2.9, 1.4, 0.2],\n",
      "       [4.9, 3.1, 1.5, 0.1],\n",
      "       [5.4, 3.7, 1.5, 0.2],\n",
      "       [4.8, 3.4, 1.6, 0.2],\n",
      "       [4.8, 3. , 1.4, 0.1],\n",
      "       [4.3, 3. , 1.1, 0.1],\n",
      "       [5.8, 4. , 1.2, 0.2],\n",
      "       [5.7, 4.4, 1.5, 0.4],\n",
      "       [5.4, 3.9, 1.3, 0.4],\n",
      "       [5.1, 3.5, 1.4, 0.3],\n",
      "       [5.7, 3.8, 1.7, 0.3],\n",
      "       [5.1, 3.8, 1.5, 0.3],\n",
      "       [5.4, 3.4, 1.7, 0.2],\n",
      "       [5.1, 3.7, 1.5, 0.4],\n",
      "       [4.6, 3.6, 1. , 0.2],\n",
      "       [5.1, 3.3, 1.7, 0.5],\n",
      "       [4.8, 3.4, 1.9, 0.2],\n",
      "       [5. , 3. , 1.6, 0.2],\n",
      "       [5. , 3.4, 1.6, 0.4],\n",
      "       [5.2, 3.5, 1.5, 0.2],\n",
      "       [5.2, 3.4, 1.4, 0.2],\n",
      "       [4.7, 3.2, 1.6, 0.2],\n",
      "       [4.8, 3.1, 1.6, 0.2],\n",
      "       [5.4, 3.4, 1.5, 0.4],\n",
      "       [5.2, 4.1, 1.5, 0.1],\n",
      "       [5.5, 4.2, 1.4, 0.2],\n",
      "       [4.9, 3.1, 1.5, 0.2],\n",
      "       [5. , 3.2, 1.2, 0.2],\n",
      "       [5.5, 3.5, 1.3, 0.2],\n",
      "       [4.9, 3.6, 1.4, 0.1],\n",
      "       [4.4, 3. , 1.3, 0.2],\n",
      "       [5.1, 3.4, 1.5, 0.2],\n",
      "       [5. , 3.5, 1.3, 0.3],\n",
      "       [4.5, 2.3, 1.3, 0.3],\n",
      "       [4.4, 3.2, 1.3, 0.2],\n",
      "       [5. , 3.5, 1.6, 0.6],\n",
      "       [5.1, 3.8, 1.9, 0.4],\n",
      "       [4.8, 3. , 1.4, 0.3],\n",
      "       [5.1, 3.8, 1.6, 0.2],\n",
      "       [4.6, 3.2, 1.4, 0.2],\n",
      "       [5.3, 3.7, 1.5, 0.2],\n",
      "       [5. , 3.3, 1.4, 0.2],\n",
      "       [7. , 3.2, 4.7, 1.4],\n",
      "       [6.4, 3.2, 4.5, 1.5],\n",
      "       [6.9, 3.1, 4.9, 1.5],\n",
      "       [5.5, 2.3, 4. , 1.3],\n",
      "       [6.5, 2.8, 4.6, 1.5],\n",
      "       [5.7, 2.8, 4.5, 1.3],\n",
      "       [6.3, 3.3, 4.7, 1.6],\n",
      "       [4.9, 2.4, 3.3, 1. ],\n",
      "       [6.6, 2.9, 4.6, 1.3],\n",
      "       [5.2, 2.7, 3.9, 1.4],\n",
      "       [5. , 2. , 3.5, 1. ],\n",
      "       [5.9, 3. , 4.2, 1.5],\n",
      "       [6. , 2.2, 4. , 1. ],\n",
      "       [6.1, 2.9, 4.7, 1.4],\n",
      "       [5.6, 2.9, 3.6, 1.3],\n",
      "       [6.7, 3.1, 4.4, 1.4],\n",
      "       [5.6, 3. , 4.5, 1.5],\n",
      "       [5.8, 2.7, 4.1, 1. ],\n",
      "       [6.2, 2.2, 4.5, 1.5],\n",
      "       [5.6, 2.5, 3.9, 1.1],\n",
      "       [5.9, 3.2, 4.8, 1.8],\n",
      "       [6.1, 2.8, 4. , 1.3],\n",
      "       [6.3, 2.5, 4.9, 1.5],\n",
      "       [6.1, 2.8, 4.7, 1.2],\n",
      "       [6.4, 2.9, 4.3, 1.3],\n",
      "       [6.6, 3. , 4.4, 1.4],\n",
      "       [6.8, 2.8, 4.8, 1.4],\n",
      "       [6.7, 3. , 5. , 1.7],\n",
      "       [6. , 2.9, 4.5, 1.5],\n",
      "       [5.7, 2.6, 3.5, 1. ],\n",
      "       [5.5, 2.4, 3.8, 1.1],\n",
      "       [5.5, 2.4, 3.7, 1. ],\n",
      "       [5.8, 2.7, 3.9, 1.2],\n",
      "       [6. , 2.7, 5.1, 1.6],\n",
      "       [5.4, 3. , 4.5, 1.5],\n",
      "       [6. , 3.4, 4.5, 1.6],\n",
      "       [6.7, 3.1, 4.7, 1.5],\n",
      "       [6.3, 2.3, 4.4, 1.3],\n",
      "       [5.6, 3. , 4.1, 1.3],\n",
      "       [5.5, 2.5, 4. , 1.3],\n",
      "       [5.5, 2.6, 4.4, 1.2],\n",
      "       [6.1, 3. , 4.6, 1.4],\n",
      "       [5.8, 2.6, 4. , 1.2],\n",
      "       [5. , 2.3, 3.3, 1. ],\n",
      "       [5.6, 2.7, 4.2, 1.3],\n",
      "       [5.7, 3. , 4.2, 1.2],\n",
      "       [5.7, 2.9, 4.2, 1.3],\n",
      "       [6.2, 2.9, 4.3, 1.3],\n",
      "       [5.1, 2.5, 3. , 1.1],\n",
      "       [5.7, 2.8, 4.1, 1.3],\n",
      "       [6.3, 3.3, 6. , 2.5],\n",
      "       [5.8, 2.7, 5.1, 1.9],\n",
      "       [7.1, 3. , 5.9, 2.1],\n",
      "       [6.3, 2.9, 5.6, 1.8],\n",
      "       [6.5, 3. , 5.8, 2.2],\n",
      "       [7.6, 3. , 6.6, 2.1],\n",
      "       [4.9, 2.5, 4.5, 1.7],\n",
      "       [7.3, 2.9, 6.3, 1.8],\n",
      "       [6.7, 2.5, 5.8, 1.8],\n",
      "       [7.2, 3.6, 6.1, 2.5],\n",
      "       [6.5, 3.2, 5.1, 2. ],\n",
      "       [6.4, 2.7, 5.3, 1.9],\n",
      "       [6.8, 3. , 5.5, 2.1],\n",
      "       [5.7, 2.5, 5. , 2. ],\n",
      "       [5.8, 2.8, 5.1, 2.4],\n",
      "       [6.4, 3.2, 5.3, 2.3],\n",
      "       [6.5, 3. , 5.5, 1.8],\n",
      "       [7.7, 3.8, 6.7, 2.2],\n",
      "       [7.7, 2.6, 6.9, 2.3],\n",
      "       [6. , 2.2, 5. , 1.5],\n",
      "       [6.9, 3.2, 5.7, 2.3],\n",
      "       [5.6, 2.8, 4.9, 2. ],\n",
      "       [7.7, 2.8, 6.7, 2. ],\n",
      "       [6.3, 2.7, 4.9, 1.8],\n",
      "       [6.7, 3.3, 5.7, 2.1],\n",
      "       [7.2, 3.2, 6. , 1.8],\n",
      "       [6.2, 2.8, 4.8, 1.8],\n",
      "       [6.1, 3. , 4.9, 1.8],\n",
      "       [6.4, 2.8, 5.6, 2.1],\n",
      "       [7.2, 3. , 5.8, 1.6],\n",
      "       [7.4, 2.8, 6.1, 1.9],\n",
      "       [7.9, 3.8, 6.4, 2. ],\n",
      "       [6.4, 2.8, 5.6, 2.2],\n",
      "       [6.3, 2.8, 5.1, 1.5],\n",
      "       [6.1, 2.6, 5.6, 1.4],\n",
      "       [7.7, 3. , 6.1, 2.3],\n",
      "       [6.3, 3.4, 5.6, 2.4],\n",
      "       [6.4, 3.1, 5.5, 1.8],\n",
      "       [6. , 3. , 4.8, 1.8],\n",
      "       [6.9, 3.1, 5.4, 2.1],\n",
      "       [6.7, 3.1, 5.6, 2.4],\n",
      "       [6.9, 3.1, 5.1, 2.3],\n",
      "       [5.8, 2.7, 5.1, 1.9],\n",
      "       [6.8, 3.2, 5.9, 2.3],\n",
      "       [6.7, 3.3, 5.7, 2.5],\n",
      "       [6.7, 3. , 5.2, 2.3],\n",
      "       [6.3, 2.5, 5. , 1.9],\n",
      "       [6.5, 3. , 5.2, 2. ],\n",
      "       [6.2, 3.4, 5.4, 2.3],\n",
      "       [5.9, 3. , 5.1, 1.8]]), 'target': array([0, 0, 0, 0, 0, 0, 0, 0, 0, 0, 0, 0, 0, 0, 0, 0, 0, 0, 0, 0, 0, 0,\n",
      "       0, 0, 0, 0, 0, 0, 0, 0, 0, 0, 0, 0, 0, 0, 0, 0, 0, 0, 0, 0, 0, 0,\n",
      "       0, 0, 0, 0, 0, 0, 1, 1, 1, 1, 1, 1, 1, 1, 1, 1, 1, 1, 1, 1, 1, 1,\n",
      "       1, 1, 1, 1, 1, 1, 1, 1, 1, 1, 1, 1, 1, 1, 1, 1, 1, 1, 1, 1, 1, 1,\n",
      "       1, 1, 1, 1, 1, 1, 1, 1, 1, 1, 1, 1, 2, 2, 2, 2, 2, 2, 2, 2, 2, 2,\n",
      "       2, 2, 2, 2, 2, 2, 2, 2, 2, 2, 2, 2, 2, 2, 2, 2, 2, 2, 2, 2, 2, 2,\n",
      "       2, 2, 2, 2, 2, 2, 2, 2, 2, 2, 2, 2, 2, 2, 2, 2, 2, 2]), 'frame': None, 'target_names': array(['setosa', 'versicolor', 'virginica'], dtype='<U10'), 'DESCR': '.. _iris_dataset:\\n\\nIris plants dataset\\n--------------------\\n\\n**Data Set Characteristics:**\\n\\n    :Number of Instances: 150 (50 in each of three classes)\\n    :Number of Attributes: 4 numeric, predictive attributes and the class\\n    :Attribute Information:\\n        - sepal length in cm\\n        - sepal width in cm\\n        - petal length in cm\\n        - petal width in cm\\n        - class:\\n                - Iris-Setosa\\n                - Iris-Versicolour\\n                - Iris-Virginica\\n                \\n    :Summary Statistics:\\n\\n    ============== ==== ==== ======= ===== ====================\\n                    Min  Max   Mean    SD   Class Correlation\\n    ============== ==== ==== ======= ===== ====================\\n    sepal length:   4.3  7.9   5.84   0.83    0.7826\\n    sepal width:    2.0  4.4   3.05   0.43   -0.4194\\n    petal length:   1.0  6.9   3.76   1.76    0.9490  (high!)\\n    petal width:    0.1  2.5   1.20   0.76    0.9565  (high!)\\n    ============== ==== ==== ======= ===== ====================\\n\\n    :Missing Attribute Values: None\\n    :Class Distribution: 33.3% for each of 3 classes.\\n    :Creator: R.A. Fisher\\n    :Donor: Michael Marshall (MARSHALL%PLU@io.arc.nasa.gov)\\n    :Date: July, 1988\\n\\nThe famous Iris database, first used by Sir R.A. Fisher. The dataset is taken\\nfrom Fisher\\'s paper. Note that it\\'s the same as in R, but not as in the UCI\\nMachine Learning Repository, which has two wrong data points.\\n\\nThis is perhaps the best known database to be found in the\\npattern recognition literature.  Fisher\\'s paper is a classic in the field and\\nis referenced frequently to this day.  (See Duda & Hart, for example.)  The\\ndata set contains 3 classes of 50 instances each, where each class refers to a\\ntype of iris plant.  One class is linearly separable from the other 2; the\\nlatter are NOT linearly separable from each other.\\n\\n.. topic:: References\\n\\n   - Fisher, R.A. \"The use of multiple measurements in taxonomic problems\"\\n     Annual Eugenics, 7, Part II, 179-188 (1936); also in \"Contributions to\\n     Mathematical Statistics\" (John Wiley, NY, 1950).\\n   - Duda, R.O., & Hart, P.E. (1973) Pattern Classification and Scene Analysis.\\n     (Q327.D83) John Wiley & Sons.  ISBN 0-471-22361-1.  See page 218.\\n   - Dasarathy, B.V. (1980) \"Nosing Around the Neighborhood: A New System\\n     Structure and Classification Rule for Recognition in Partially Exposed\\n     Environments\".  IEEE Transactions on Pattern Analysis and Machine\\n     Intelligence, Vol. PAMI-2, No. 1, 67-71.\\n   - Gates, G.W. (1972) \"The Reduced Nearest Neighbor Rule\".  IEEE Transactions\\n     on Information Theory, May 1972, 431-433.\\n   - See also: 1988 MLC Proceedings, 54-64.  Cheeseman et al\"s AUTOCLASS II\\n     conceptual clustering system finds 3 classes in the data.\\n   - Many, many more ...', 'feature_names': ['sepal length (cm)', 'sepal width (cm)', 'petal length (cm)', 'petal width (cm)'], 'filename': 'iris.csv', 'data_module': 'sklearn.datasets.data'}\n"
     ]
    }
   ],
   "source": [
    "from sklearn.datasets import load_iris\n",
    "iris=load_iris()\n",
    "print(iris)"
   ]
  },
  {
   "cell_type": "code",
   "execution_count": 21,
   "id": "a18803d2",
   "metadata": {},
   "outputs": [],
   "source": [
    "X=iris.data\n",
    "y=iris.target"
   ]
  },
  {
   "cell_type": "code",
   "execution_count": 22,
   "id": "d4f7827d",
   "metadata": {},
   "outputs": [
    {
     "name": "stdout",
     "output_type": "stream",
     "text": [
      "(150, 4)\n"
     ]
    }
   ],
   "source": [
    "print(X.shape)"
   ]
  },
  {
   "cell_type": "code",
   "execution_count": 23,
   "id": "76f1678a",
   "metadata": {},
   "outputs": [
    {
     "name": "stdout",
     "output_type": "stream",
     "text": [
      "(150, 4)\n"
     ]
    }
   ],
   "source": [
    "print(Y.shape)"
   ]
  },
  {
   "cell_type": "code",
   "execution_count": 24,
   "id": "2631719d",
   "metadata": {},
   "outputs": [],
   "source": [
    "#splitting into training and testing data avoid overfitting\n",
    "from sklearn.model_selection import train_test_split\n",
    "# X_train,X_test,Y_train,Y_test=train_test_split(X,Y,test_size=0.2,random_state=42)\n",
    "X_train, X_test, Y_train, Y_test = train_test_split(\n",
    "    X, y,stratify=y, test_size=0.2, random_state=42\n",
    ")"
   ]
  },
  {
   "cell_type": "code",
   "execution_count": 25,
   "id": "33308c51",
   "metadata": {},
   "outputs": [
    {
     "name": "stdout",
     "output_type": "stream",
     "text": [
      "(120, 4)\n"
     ]
    }
   ],
   "source": [
    "print(X_train.shape)"
   ]
  },
  {
   "cell_type": "code",
   "execution_count": 26,
   "id": "d40d9877",
   "metadata": {},
   "outputs": [
    {
     "name": "stdout",
     "output_type": "stream",
     "text": [
      "(30, 4)\n"
     ]
    }
   ],
   "source": [
    "print(X_test.shape)"
   ]
  },
  {
   "cell_type": "code",
   "execution_count": 27,
   "id": "49c716e0",
   "metadata": {},
   "outputs": [],
   "source": [
    "from sklearn.preprocessing import StandardScaler\n",
    "scaler=StandardScaler()\n",
    "X_train_scaled=scaler.fit_transform(X_train)\n",
    "X_test_scaled=scaler.transform(X_test)"
   ]
  },
  {
   "cell_type": "code",
   "execution_count": 28,
   "id": "b33839b3",
   "metadata": {},
   "outputs": [
    {
     "name": "stdout",
     "output_type": "stream",
     "text": [
      "[[4.4 2.9 1.4 0.2]\n",
      " [4.9 2.5 4.5 1.7]\n",
      " [6.8 2.8 4.8 1.4]\n",
      " [4.9 3.1 1.5 0.1]\n",
      " [5.5 2.5 4.  1.3]\n",
      " [6.3 2.5 5.  1.9]\n",
      " [5.6 2.7 4.2 1.3]\n",
      " [6.3 2.8 5.1 1.5]\n",
      " [7.7 3.  6.1 2.3]\n",
      " [7.7 3.8 6.7 2.2]\n",
      " [7.6 3.  6.6 2.1]\n",
      " [6.  2.9 4.5 1.5]\n",
      " [5.  2.  3.5 1. ]\n",
      " [5.8 2.7 4.1 1. ]\n",
      " [5.8 2.6 4.  1.2]\n",
      " [4.7 3.2 1.6 0.2]\n",
      " [5.1 3.8 1.5 0.3]\n",
      " [6.7 2.5 5.8 1.8]\n",
      " [6.4 3.1 5.5 1.8]\n",
      " [5.4 3.4 1.5 0.4]\n",
      " [6.3 2.5 4.9 1.5]\n",
      " [5.1 3.8 1.6 0.2]\n",
      " [7.9 3.8 6.4 2. ]\n",
      " [5.  3.  1.6 0.2]\n",
      " [5.5 2.4 3.7 1. ]\n",
      " [6.3 2.9 5.6 1.8]\n",
      " [6.4 2.7 5.3 1.9]\n",
      " [5.  3.4 1.6 0.4]\n",
      " [5.6 2.8 4.9 2. ]\n",
      " [5.  3.5 1.3 0.3]\n",
      " [5.1 3.7 1.5 0.4]\n",
      " [6.1 2.8 4.  1.3]\n",
      " [6.1 3.  4.6 1.4]\n",
      " [5.7 4.4 1.5 0.4]\n",
      " [6.9 3.1 5.4 2.1]\n",
      " [6.2 3.4 5.4 2.3]\n",
      " [5.7 2.6 3.5 1. ]\n",
      " [5.2 2.7 3.9 1.4]\n",
      " [6.7 3.3 5.7 2.5]\n",
      " [5.9 3.2 4.8 1.8]\n",
      " [4.6 3.4 1.4 0.3]\n",
      " [7.  3.2 4.7 1.4]\n",
      " [5.4 3.9 1.3 0.4]\n",
      " [7.4 2.8 6.1 1.9]\n",
      " [4.9 3.  1.4 0.2]\n",
      " [5.1 3.5 1.4 0.3]\n",
      " [5.8 2.7 5.1 1.9]\n",
      " [5.  3.2 1.2 0.2]\n",
      " [4.5 2.3 1.3 0.3]\n",
      " [4.8 3.  1.4 0.1]\n",
      " [4.8 3.  1.4 0.3]\n",
      " [5.6 2.9 3.6 1.3]\n",
      " [6.3 3.3 6.  2.5]\n",
      " [5.7 2.8 4.5 1.3]\n",
      " [5.1 3.5 1.4 0.2]\n",
      " [5.9 3.  5.1 1.8]\n",
      " [5.7 2.8 4.1 1.3]\n",
      " [6.3 3.4 5.6 2.4]\n",
      " [4.6 3.2 1.4 0.2]\n",
      " [5.8 2.7 5.1 1.9]\n",
      " [5.5 3.5 1.3 0.2]\n",
      " [5.5 2.3 4.  1.3]\n",
      " [5.7 2.5 5.  2. ]\n",
      " [4.8 3.4 1.9 0.2]\n",
      " [6.  2.7 5.1 1.6]\n",
      " [5.5 2.6 4.4 1.2]\n",
      " [7.7 2.8 6.7 2. ]\n",
      " [5.6 3.  4.5 1.5]\n",
      " [6.5 2.8 4.6 1.5]\n",
      " [6.4 3.2 5.3 2.3]\n",
      " [5.1 3.4 1.5 0.2]\n",
      " [5.1 3.3 1.7 0.5]\n",
      " [5.  3.6 1.4 0.2]\n",
      " [6.  2.2 5.  1.5]\n",
      " [5.8 2.7 3.9 1.2]\n",
      " [7.2 3.  5.8 1.6]\n",
      " [5.5 2.4 3.8 1.1]\n",
      " [6.7 3.  5.2 2.3]\n",
      " [6.3 2.7 4.9 1.8]\n",
      " [6.  3.4 4.5 1.6]\n",
      " [4.9 3.1 1.5 0.2]\n",
      " [5.8 2.8 5.1 2.4]\n",
      " [6.2 2.2 4.5 1.5]\n",
      " [5.  3.5 1.6 0.6]\n",
      " [6.9 3.2 5.7 2.3]\n",
      " [5.2 4.1 1.5 0.1]\n",
      " [7.2 3.6 6.1 2.5]\n",
      " [5.1 2.5 3.  1.1]\n",
      " [6.7 3.1 4.7 1.5]\n",
      " [4.8 3.1 1.6 0.2]\n",
      " [6.2 2.9 4.3 1.3]\n",
      " [6.5 3.2 5.1 2. ]\n",
      " [5.1 3.8 1.9 0.4]\n",
      " [4.3 3.  1.1 0.1]\n",
      " [6.7 3.3 5.7 2.1]\n",
      " [7.7 2.6 6.9 2.3]\n",
      " [6.8 3.  5.5 2.1]\n",
      " [6.3 2.3 4.4 1.3]\n",
      " [6.2 2.8 4.8 1.8]\n",
      " [5.4 3.9 1.7 0.4]\n",
      " [6.8 3.2 5.9 2.3]\n",
      " [5.7 2.9 4.2 1.3]\n",
      " [7.2 3.2 6.  1.8]\n",
      " [7.1 3.  5.9 2.1]\n",
      " [5.3 3.7 1.5 0.2]\n",
      " [6.4 2.9 4.3 1.3]\n",
      " [6.1 2.8 4.7 1.2]\n",
      " [5.7 3.  4.2 1.2]\n",
      " [5.6 3.  4.1 1.3]\n",
      " [6.7 3.1 4.4 1.4]\n",
      " [5.2 3.5 1.5 0.2]\n",
      " [6.4 2.8 5.6 2.1]\n",
      " [6.  2.2 4.  1. ]\n",
      " [5.9 3.  4.2 1.5]\n",
      " [4.8 3.4 1.6 0.2]\n",
      " [4.9 3.6 1.4 0.1]\n",
      " [4.7 3.2 1.3 0.2]\n",
      " [5.5 4.2 1.4 0.2]\n",
      " [6.9 3.1 4.9 1.5]\n",
      " [4.6 3.1 1.5 0.2]]\n"
     ]
    }
   ],
   "source": [
    "print(X_train)"
   ]
  },
  {
   "cell_type": "code",
   "execution_count": 29,
   "id": "5900ddf4",
   "metadata": {},
   "outputs": [
    {
     "name": "stdout",
     "output_type": "stream",
     "text": [
      "[[-1.72156775 -0.33210111 -1.34572231 -1.32327558]\n",
      " [-1.12449223 -1.22765467  0.41450518  0.6517626 ]\n",
      " [ 1.14439475 -0.5559895   0.58484978  0.25675496]\n",
      " [-1.12449223  0.11567567 -1.28894078 -1.45494479]\n",
      " [-0.40800161 -1.22765467  0.13059752  0.12508575]\n",
      " [ 0.54731923 -1.22765467  0.69841284  0.91510102]\n",
      " [-0.2885865  -0.77987789  0.24416059  0.12508575]\n",
      " [ 0.54731923 -0.5559895   0.75519438  0.38842418]\n",
      " [ 2.21913069 -0.10821272  1.3230097   1.44177787]\n",
      " [ 2.21913069  1.6828944   1.66369889  1.31010866]\n",
      " [ 2.09971558 -0.10821272  1.60691736  1.17843945]\n",
      " [ 0.18907392 -0.33210111  0.41450518  0.38842418]\n",
      " [-1.00507713 -2.34709662 -0.15331014 -0.26992188]\n",
      " [-0.04975629 -0.77987789  0.18737906 -0.26992188]\n",
      " [-0.04975629 -1.00376628  0.13059752 -0.00658346]\n",
      " [-1.36332244  0.33956406 -1.23215924 -1.32327558]\n",
      " [-0.88566202  1.6828944  -1.28894078 -1.19160637]\n",
      " [ 1.02497964 -1.22765467  1.1526651   0.78343181]\n",
      " [ 0.66673433  0.11567567  0.9823205   0.78343181]\n",
      " [-0.52741671  0.78734084 -1.28894078 -1.05993716]\n",
      " [ 0.54731923 -1.22765467  0.64163131  0.38842418]\n",
      " [-0.88566202  1.6828944  -1.23215924 -1.32327558]\n",
      " [ 2.4579609   1.6828944   1.49335429  1.04677024]\n",
      " [-1.00507713 -0.10821272 -1.23215924 -1.32327558]\n",
      " [-0.40800161 -1.45154306 -0.03974707 -0.26992188]\n",
      " [ 0.54731923 -0.33210111  1.03910204  0.78343181]\n",
      " [ 0.66673433 -0.77987789  0.86875744  0.91510102]\n",
      " [-1.00507713  0.78734084 -1.23215924 -1.05993716]\n",
      " [-0.2885865  -0.5559895   0.64163131  1.04677024]\n",
      " [-1.00507713  1.01122923 -1.40250384 -1.19160637]\n",
      " [-0.88566202  1.45900601 -1.28894078 -1.05993716]\n",
      " [ 0.30848902 -0.5559895   0.13059752  0.12508575]\n",
      " [ 0.30848902 -0.10821272  0.47128672  0.25675496]\n",
      " [-0.1691714   3.02622474 -1.28894078 -1.05993716]\n",
      " [ 1.26380985  0.11567567  0.92553897  1.17843945]\n",
      " [ 0.42790412  0.78734084  0.92553897  1.44177787]\n",
      " [-0.1691714  -1.00376628 -0.15331014 -0.26992188]\n",
      " [-0.76624692 -0.77987789  0.07381599  0.25675496]\n",
      " [ 1.02497964  0.56345245  1.09588357  1.7051163 ]\n",
      " [ 0.06965881  0.33956406  0.58484978  0.78343181]\n",
      " [-1.48273754  0.78734084 -1.34572231 -1.19160637]\n",
      " [ 1.38322496  0.33956406  0.52806825  0.25675496]\n",
      " [-0.52741671  1.90678279 -1.40250384 -1.05993716]\n",
      " [ 1.86088537 -0.5559895   1.3230097   0.91510102]\n",
      " [-1.12449223 -0.10821272 -1.34572231 -1.32327558]\n",
      " [-0.88566202  1.01122923 -1.34572231 -1.19160637]\n",
      " [-0.04975629 -0.77987789  0.75519438  0.91510102]\n",
      " [-1.00507713  0.33956406 -1.45928537 -1.32327558]\n",
      " [-1.60215265 -1.67543145 -1.40250384 -1.19160637]\n",
      " [-1.24390734 -0.10821272 -1.34572231 -1.45494479]\n",
      " [-1.24390734 -0.10821272 -1.34572231 -1.19160637]\n",
      " [-0.2885865  -0.33210111 -0.0965286   0.12508575]\n",
      " [ 0.54731923  0.56345245  1.26622816  1.7051163 ]\n",
      " [-0.1691714  -0.5559895   0.41450518  0.12508575]\n",
      " [-0.88566202  1.01122923 -1.34572231 -1.32327558]\n",
      " [ 0.06965881 -0.10821272  0.75519438  0.78343181]\n",
      " [-0.1691714  -0.5559895   0.18737906  0.12508575]\n",
      " [ 0.54731923  0.78734084  1.03910204  1.57344709]\n",
      " [-1.48273754  0.33956406 -1.34572231 -1.32327558]\n",
      " [-0.04975629 -0.77987789  0.75519438  0.91510102]\n",
      " [-0.40800161  1.01122923 -1.40250384 -1.32327558]\n",
      " [-0.40800161 -1.67543145  0.13059752  0.12508575]\n",
      " [-0.1691714  -1.22765467  0.69841284  1.04677024]\n",
      " [-1.24390734  0.78734084 -1.06181465 -1.32327558]\n",
      " [ 0.18907392 -0.77987789  0.75519438  0.52009339]\n",
      " [-0.40800161 -1.00376628  0.35772365 -0.00658346]\n",
      " [ 2.21913069 -0.5559895   1.66369889  1.04677024]\n",
      " [-0.2885865  -0.10821272  0.41450518  0.38842418]\n",
      " [ 0.78614944 -0.5559895   0.47128672  0.38842418]\n",
      " [ 0.66673433  0.33956406  0.86875744  1.44177787]\n",
      " [-0.88566202  0.78734084 -1.28894078 -1.32327558]\n",
      " [-0.88566202  0.56345245 -1.17537771 -0.92826795]\n",
      " [-1.00507713  1.23511762 -1.34572231 -1.32327558]\n",
      " [ 0.18907392 -1.89931984  0.69841284  0.38842418]\n",
      " [-0.04975629 -0.77987789  0.07381599 -0.00658346]\n",
      " [ 1.62205517 -0.10821272  1.1526651   0.52009339]\n",
      " [-0.40800161 -1.45154306  0.01703446 -0.13825267]\n",
      " [ 1.02497964 -0.10821272  0.81197591  1.44177787]\n",
      " [ 0.54731923 -0.77987789  0.64163131  0.78343181]\n",
      " [ 0.18907392  0.78734084  0.41450518  0.52009339]\n",
      " [-1.12449223  0.11567567 -1.28894078 -1.32327558]\n",
      " [-0.04975629 -0.5559895   0.75519438  1.57344709]\n",
      " [ 0.42790412 -1.89931984  0.41450518  0.38842418]\n",
      " [-1.00507713  1.01122923 -1.23215924 -0.79659873]\n",
      " [ 1.26380985  0.33956406  1.09588357  1.44177787]\n",
      " [-0.76624692  2.35455957 -1.28894078 -1.45494479]\n",
      " [ 1.62205517  1.23511762  1.3230097   1.7051163 ]\n",
      " [-0.88566202 -1.22765467 -0.4372178  -0.13825267]\n",
      " [ 1.02497964  0.11567567  0.52806825  0.38842418]\n",
      " [-1.24390734  0.11567567 -1.23215924 -1.32327558]\n",
      " [ 0.42790412 -0.33210111  0.30094212  0.12508575]\n",
      " [ 0.78614944  0.33956406  0.75519438  1.04677024]\n",
      " [-0.88566202  1.6828944  -1.06181465 -1.05993716]\n",
      " [-1.84098286 -0.10821272 -1.5160669  -1.45494479]\n",
      " [ 1.02497964  0.56345245  1.09588357  1.17843945]\n",
      " [ 2.21913069 -1.00376628  1.77726195  1.44177787]\n",
      " [ 1.14439475 -0.10821272  0.9823205   1.17843945]\n",
      " [ 0.54731923 -1.67543145  0.35772365  0.12508575]\n",
      " [ 0.42790412 -0.5559895   0.58484978  0.78343181]\n",
      " [-0.52741671  1.90678279 -1.17537771 -1.05993716]\n",
      " [ 1.14439475  0.33956406  1.20944663  1.44177787]\n",
      " [-0.1691714  -0.33210111  0.24416059  0.12508575]\n",
      " [ 1.62205517  0.33956406  1.26622816  0.78343181]\n",
      " [ 1.50264006 -0.10821272  1.20944663  1.17843945]\n",
      " [-0.64683181  1.45900601 -1.28894078 -1.32327558]\n",
      " [ 0.66673433 -0.33210111  0.30094212  0.12508575]\n",
      " [ 0.30848902 -0.5559895   0.52806825 -0.00658346]\n",
      " [-0.1691714  -0.10821272  0.24416059 -0.00658346]\n",
      " [-0.2885865  -0.10821272  0.18737906  0.12508575]\n",
      " [ 1.02497964  0.11567567  0.35772365  0.25675496]\n",
      " [-0.76624692  1.01122923 -1.28894078 -1.32327558]\n",
      " [ 0.66673433 -0.5559895   1.03910204  1.17843945]\n",
      " [ 0.18907392 -1.89931984  0.13059752 -0.26992188]\n",
      " [ 0.06965881 -0.10821272  0.24416059  0.38842418]\n",
      " [-1.24390734  0.78734084 -1.23215924 -1.32327558]\n",
      " [-1.12449223  1.23511762 -1.34572231 -1.45494479]\n",
      " [-1.36332244  0.33956406 -1.40250384 -1.32327558]\n",
      " [-0.40800161  2.57844796 -1.34572231 -1.32327558]\n",
      " [ 1.26380985  0.11567567  0.64163131  0.38842418]\n",
      " [-1.48273754  0.11567567 -1.28894078 -1.32327558]]\n"
     ]
    }
   ],
   "source": [
    "print(X_train_scaled)"
   ]
  },
  {
   "cell_type": "code",
   "execution_count": 30,
   "id": "a7fc75fb",
   "metadata": {},
   "outputs": [
    {
     "name": "stdout",
     "output_type": "stream",
     "text": [
      "[0 2 1 0 1 2 1 2 2 2 2 1 1 1 1 0 0 2 2 0 1 0 2 0 1 2 2 0 2 0 0 1 1 0 2 2 1\n",
      " 1 2 1 0 1 0 2 0 0 2 0 0 0 0 1 2 1 0 2 1 2 0 2 0 1 2 0 1 1 2 1 1 2 0 0 0 2\n",
      " 1 2 1 2 2 1 0 2 1 0 2 0 2 1 1 0 1 2 0 0 2 2 2 1 2 0 2 1 2 2 0 1 1 1 1 1 0\n",
      " 2 1 1 0 0 0 0 1 0]\n"
     ]
    }
   ],
   "source": [
    "print(Y_train)"
   ]
  },
  {
   "cell_type": "code",
   "execution_count": 31,
   "id": "2cded4e6",
   "metadata": {},
   "outputs": [
    {
     "data": {
      "text/plain": [
       "array([0, 2, 1, 1, 0, 1, 0, 0, 2, 1, 2, 2, 2, 1, 0, 0, 0, 1, 1, 2, 0, 2,\n",
       "       1, 2, 2, 1, 1, 0, 2, 0])"
      ]
     },
     "execution_count": 31,
     "metadata": {},
     "output_type": "execute_result"
    }
   ],
   "source": [
    "Y_test"
   ]
  },
  {
   "cell_type": "code",
   "execution_count": 32,
   "id": "f8634652",
   "metadata": {},
   "outputs": [
    {
     "name": "stdout",
     "output_type": "stream",
     "text": [
      "k=1\n",
      "Accuracy score of KNN using Sklearn: 0.9666666666666667\n",
      "F1 score of KNN using Sklearn: 0.9665831244778613\n",
      "k=3\n",
      "Accuracy score of KNN using Sklearn: 0.9333333333333333\n",
      "F1 score of KNN using Sklearn: 0.9326599326599326\n",
      "k=5\n",
      "Accuracy score of KNN using Sklearn: 0.9333333333333333\n",
      "F1 score of KNN using Sklearn: 0.9326599326599326\n"
     ]
    }
   ],
   "source": [
    "from sklearn.neighbors import KNeighborsClassifier\n",
    "from sklearn.metrics import accuracy_score,f1_score\n",
    "for k in [1,3,5]:\n",
    "    knn=KNeighborsClassifier(n_neighbors=k)\n",
    "    knn.fit(X_train_scaled,Y_train)\n",
    "    y_pred=knn.predict(X_test_scaled)\n",
    "    print(f'k={k}')\n",
    "    print(\"Accuracy score of KNN using Sklearn:\",accuracy_score(Y_test,y_pred))\n",
    "    print(\"F1 score of KNN using Sklearn:\",f1_score(Y_test,y_pred,average='weighted'))\n",
    "    "
   ]
  },
  {
   "cell_type": "code",
   "execution_count": 33,
   "id": "5522dd69",
   "metadata": {},
   "outputs": [
    {
     "name": "stdout",
     "output_type": "stream",
     "text": [
      "\n",
      "k = 1\n",
      "Accuracy score of KNN uing sklearn : 0.9666666666666667\n",
      "F1 Score of KNN using sklearn: 0.9665831244778613\n",
      "\n",
      "k = 3\n",
      "Accuracy score of KNN uing sklearn : 0.9666666666666667\n",
      "F1 Score of KNN using sklearn: 0.9665831244778613\n",
      "\n",
      "k = 5\n",
      "Accuracy score of KNN uing sklearn : 0.9666666666666667\n",
      "F1 Score of KNN using sklearn: 0.9665831244778613\n"
     ]
    }
   ],
   "source": [
    "from sklearn.neighbors import KNeighborsClassifier\n",
    "from sklearn.metrics import accuracy_score, f1_score\n",
    "\n",
    "for k in [1, 3, 5]:\n",
    "    knn = KNeighborsClassifier(n_neighbors=k,weights='distance')\n",
    "    knn.fit(X_train_scaled, Y_train)\n",
    "    y_pred = knn.predict(X_test_scaled)\n",
    "\n",
    "    print(f'\\nk = {k}')\n",
    "    print(\"Accuracy score of KNN uing sklearn :\", accuracy_score(Y_test, y_pred))\n",
    "    print(\"F1 Score of KNN using sklearn:\", f1_score(Y_test, y_pred, average='weighted'))\n"
   ]
  },
  {
   "cell_type": "code",
   "execution_count": 2,
   "id": "98b8e69b",
   "metadata": {},
   "outputs": [],
   "source": [
    "from sklearn.datasets import load_iris\n",
    "from sklearn.tree import DecisionTreeClassifier, plot_tree\n",
    "from sklearn.model_selection import train_test_split\n",
    "import matplotlib.pyplot as plt\n",
    "\n"
   ]
  },
  {
   "cell_type": "code",
   "execution_count": 3,
   "id": "14e58eb8",
   "metadata": {},
   "outputs": [],
   "source": [
    "# Load data\n",
    "iris = load_iris()\n",
    "X = iris.data\n",
    "y = iris.target\n"
   ]
  },
  {
   "cell_type": "code",
   "execution_count": 4,
   "id": "428b0688",
   "metadata": {},
   "outputs": [],
   "source": [
    "# Train-test split\n",
    "X_train, X_test, y_train, y_test = train_test_split(X, y, stratify=y, random_state=42)\n"
   ]
  },
  {
   "cell_type": "code",
   "execution_count": 5,
   "id": "c5528a78",
   "metadata": {},
   "outputs": [
    {
     "data": {
      "text/html": [
       "<style>#sk-container-id-1 {color: black;}#sk-container-id-1 pre{padding: 0;}#sk-container-id-1 div.sk-toggleable {background-color: white;}#sk-container-id-1 label.sk-toggleable__label {cursor: pointer;display: block;width: 100%;margin-bottom: 0;padding: 0.3em;box-sizing: border-box;text-align: center;}#sk-container-id-1 label.sk-toggleable__label-arrow:before {content: \"▸\";float: left;margin-right: 0.25em;color: #696969;}#sk-container-id-1 label.sk-toggleable__label-arrow:hover:before {color: black;}#sk-container-id-1 div.sk-estimator:hover label.sk-toggleable__label-arrow:before {color: black;}#sk-container-id-1 div.sk-toggleable__content {max-height: 0;max-width: 0;overflow: hidden;text-align: left;background-color: #f0f8ff;}#sk-container-id-1 div.sk-toggleable__content pre {margin: 0.2em;color: black;border-radius: 0.25em;background-color: #f0f8ff;}#sk-container-id-1 input.sk-toggleable__control:checked~div.sk-toggleable__content {max-height: 200px;max-width: 100%;overflow: auto;}#sk-container-id-1 input.sk-toggleable__control:checked~label.sk-toggleable__label-arrow:before {content: \"▾\";}#sk-container-id-1 div.sk-estimator input.sk-toggleable__control:checked~label.sk-toggleable__label {background-color: #d4ebff;}#sk-container-id-1 div.sk-label input.sk-toggleable__control:checked~label.sk-toggleable__label {background-color: #d4ebff;}#sk-container-id-1 input.sk-hidden--visually {border: 0;clip: rect(1px 1px 1px 1px);clip: rect(1px, 1px, 1px, 1px);height: 1px;margin: -1px;overflow: hidden;padding: 0;position: absolute;width: 1px;}#sk-container-id-1 div.sk-estimator {font-family: monospace;background-color: #f0f8ff;border: 1px dotted black;border-radius: 0.25em;box-sizing: border-box;margin-bottom: 0.5em;}#sk-container-id-1 div.sk-estimator:hover {background-color: #d4ebff;}#sk-container-id-1 div.sk-parallel-item::after {content: \"\";width: 100%;border-bottom: 1px solid gray;flex-grow: 1;}#sk-container-id-1 div.sk-label:hover label.sk-toggleable__label {background-color: #d4ebff;}#sk-container-id-1 div.sk-serial::before {content: \"\";position: absolute;border-left: 1px solid gray;box-sizing: border-box;top: 0;bottom: 0;left: 50%;z-index: 0;}#sk-container-id-1 div.sk-serial {display: flex;flex-direction: column;align-items: center;background-color: white;padding-right: 0.2em;padding-left: 0.2em;position: relative;}#sk-container-id-1 div.sk-item {position: relative;z-index: 1;}#sk-container-id-1 div.sk-parallel {display: flex;align-items: stretch;justify-content: center;background-color: white;position: relative;}#sk-container-id-1 div.sk-item::before, #sk-container-id-1 div.sk-parallel-item::before {content: \"\";position: absolute;border-left: 1px solid gray;box-sizing: border-box;top: 0;bottom: 0;left: 50%;z-index: -1;}#sk-container-id-1 div.sk-parallel-item {display: flex;flex-direction: column;z-index: 1;position: relative;background-color: white;}#sk-container-id-1 div.sk-parallel-item:first-child::after {align-self: flex-end;width: 50%;}#sk-container-id-1 div.sk-parallel-item:last-child::after {align-self: flex-start;width: 50%;}#sk-container-id-1 div.sk-parallel-item:only-child::after {width: 0;}#sk-container-id-1 div.sk-dashed-wrapped {border: 1px dashed gray;margin: 0 0.4em 0.5em 0.4em;box-sizing: border-box;padding-bottom: 0.4em;background-color: white;}#sk-container-id-1 div.sk-label label {font-family: monospace;font-weight: bold;display: inline-block;line-height: 1.2em;}#sk-container-id-1 div.sk-label-container {text-align: center;}#sk-container-id-1 div.sk-container {/* jupyter's `normalize.less` sets `[hidden] { display: none; }` but bootstrap.min.css set `[hidden] { display: none !important; }` so we also need the `!important` here to be able to override the default hidden behavior on the sphinx rendered scikit-learn.org. See: https://github.com/scikit-learn/scikit-learn/issues/21755 */display: inline-block !important;position: relative;}#sk-container-id-1 div.sk-text-repr-fallback {display: none;}</style><div id=\"sk-container-id-1\" class=\"sk-top-container\"><div class=\"sk-text-repr-fallback\"><pre>DecisionTreeClassifier(max_depth=3, random_state=42)</pre><b>In a Jupyter environment, please rerun this cell to show the HTML representation or trust the notebook. <br />On GitHub, the HTML representation is unable to render, please try loading this page with nbviewer.org.</b></div><div class=\"sk-container\" hidden><div class=\"sk-item\"><div class=\"sk-estimator sk-toggleable\"><input class=\"sk-toggleable__control sk-hidden--visually\" id=\"sk-estimator-id-1\" type=\"checkbox\" checked><label for=\"sk-estimator-id-1\" class=\"sk-toggleable__label sk-toggleable__label-arrow\">DecisionTreeClassifier</label><div class=\"sk-toggleable__content\"><pre>DecisionTreeClassifier(max_depth=3, random_state=42)</pre></div></div></div></div></div>"
      ],
      "text/plain": [
       "DecisionTreeClassifier(max_depth=3, random_state=42)"
      ]
     },
     "execution_count": 5,
     "metadata": {},
     "output_type": "execute_result"
    }
   ],
   "source": [
    "# Train Decision Tree\n",
    "dt = DecisionTreeClassifier(max_depth=3, random_state=42)\n",
    "dt.fit(X_train, y_train)\n"
   ]
  },
  {
   "cell_type": "code",
   "execution_count": 62,
   "id": "bc93cd5d",
   "metadata": {},
   "outputs": [
    {
     "data": {
      "image/png": "[encoded data removed]",
      "text/plain": [
       "<Figure size 1200x600 with 1 Axes>"
      ]
     },
     "metadata": {},
     "output_type": "display_data"
    }
   ],
   "source": [
    "# Plot the tree\n",
    "plt.figure(figsize=(12, 6))\n",
    "plot_tree(\n",
    "    dt,\n",
    "    filled=True,\n",
    "    feature_names=iris.feature_names,\n",
    "    class_names=iris.target_names.tolist()  # ✅ Convert to list\n",
    ")\n",
    "plt.title(\"Decision Tree Visualization\")\n",
    "plt.show()\n"
   ]
  }
 ],
 "metadata": {
  "kernelspec": {
   "display_name": "Python 3 (ipykernel)",
   "language": "python",
   "name": "python3"
  },
  "language_info": {
   "codemirror_mode": {
    "name": "ipython",
    "version": 3
   },
   "file_extension": ".py",
   "mimetype": "text/x-python",
   "name": "python",
   "nbconvert_exporter": "python",
   "pygments_lexer": "ipython3",
   "version": "3.11.5"
  }
 },
 "nbformat": 4,
 "nbformat_minor": 5
}
